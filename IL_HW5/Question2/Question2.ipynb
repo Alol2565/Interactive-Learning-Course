{
 "cells": [
  {
   "cell_type": "markdown",
   "metadata": {},
   "source": [
    "# IL - HW5\n",
    "Ali Seaizadeh 810196477"
   ]
  },
  {
   "cell_type": "code",
   "execution_count": 2,
   "metadata": {},
   "outputs": [
    {
     "name": "stdout",
     "output_type": "stream",
     "text": [
      "State shape:  (8,)\n",
      "Number of actions:  4\n"
     ]
    }
   ],
   "source": [
    "import gym\n",
    "import torch\n",
    "import matplotlib.pyplot as plt\n",
    "import numpy as np\n",
    "from collections import deque, namedtuple\n",
    "\n",
    "from dqn_agent import Agent\n",
    "\n",
    "env = gym.make('LunarLander-v2')\n",
    "print('State shape: ', env.observation_space.shape)\n",
    "print('Number of actions: ', env.action_space.n)"
   ]
  },
  {
   "cell_type": "code",
   "execution_count": 28,
   "metadata": {},
   "outputs": [
    {
     "name": "stdout",
     "output_type": "stream",
     "text": [
      "Episode 816\tAverage Score: 200.5\tBuffer size = 10000.00\n",
      "Environment solved in 716 episodes!\tAverage Score: 200.55\n",
      "Episode 1003\tAverage Score: 200.1\tBuffer size = 100000.0\n",
      "Environment solved in 903 episodes!\tAverage Score: 200.12\n",
      "Episode 888\tAverage Score: 201.0\tBuffer size = 1000000.00\n",
      "Environment solved in 788 episodes!\tAverage Score: 201.04\n"
     ]
    }
   ],
   "source": [
    "buffer_size = [1e4, 1e5, 1e6]\n",
    "agent_scores = []\n",
    "for b in buffer_size:\n",
    "    agent = Agent(state_size=8, action_size=4, buffer_size=b)\n",
    "    n_episodes = 2000\n",
    "    max_t = 2000\n",
    "    eps_start = 1.0\n",
    "    eps_end = 0.001\n",
    "    eps_decay = 0.995\n",
    "\n",
    "    scores = []\n",
    "    scores_window = deque(maxlen=100)\n",
    "    eps = eps_start\n",
    "    for i_episode in range(1, n_episodes+1):\n",
    "        state = env.reset()\n",
    "        score = 0\n",
    "        for t in range(max_t):\n",
    "            action = agent.act(state, eps)\n",
    "            next_state, reward, done, _ = env.step(action)\n",
    "            agent.step(state, action, reward, next_state, done)\n",
    "            state = next_state\n",
    "            score += reward\n",
    "            if done:\n",
    "                break\n",
    "        scores_window.append(score)\n",
    "\n",
    "        n_episode_win = (i_episode + 1) % 100\n",
    "        if (n_episode_win == 0):\n",
    "            scores.append(np.mean(scores_window))\n",
    "\n",
    "        eps = max(eps_end, eps_decay*eps)\n",
    "        print('\\rEpisode {}\\tAverage Score: {:.1f}\\tBuffer size = {}'.format(i_episode, np.mean(scores_window), b), end=\"\")\n",
    "        if np.mean(scores_window) >= 200.0:\n",
    "            print('\\nEnvironment solved in {:d} episodes!\\tAverage Score: {:.2f}'.format(i_episode-100, np.mean(scores_window)))\n",
    "            torch.save(agent.qnetwork_local.state_dict(), 'optimal_network.pth')\n",
    "            break\n",
    "\n",
    "    agent_scores.append(scores)"
   ]
  },
  {
   "cell_type": "code",
   "execution_count": 32,
   "metadata": {},
   "outputs": [
    {
     "data": {
      "image/png": "[encoded data removed]",
      "text/plain": [
       "<Figure size 432x288 with 1 Axes>"
      ]
     },
     "metadata": {
      "needs_background": "light"
     },
     "output_type": "display_data"
    }
   ],
   "source": [
    "fig = plt.figure()\n",
    "ax = fig.add_subplot(111)\n",
    "plt.plot(np.arange(len(agent_scores[0])), agent_scores[0], label=\"Buffer Size=1e4\")\n",
    "plt.plot(np.arange(len(agent_scores[1])), agent_scores[1], label=\"Buffer Size=1e5\")\n",
    "plt.plot(np.arange(len(agent_scores[2])), agent_scores[2], label=\"Buffer Size=1e6\")\n",
    "plt.legend()\n",
    "plt.ylabel('Rewards')\n",
    "plt.xlabel('Episode (x100)')\n",
    "plt.show()"
   ]
  },
  {
   "cell_type": "code",
   "execution_count": 3,
   "metadata": {},
   "outputs": [],
   "source": [
    "from visualize import show_video_of_model\n",
    "agent = Agent(state_size=8, action_size=4)\n",
    "show_video_of_model(agent, 'LunarLander-v2')"
   ]
  }
 ],
 "metadata": {
  "interpreter": {
   "hash": "d5cc6a4a87dc4b3b25ba4615f4628ea484928f9572324af8a1d883d19e1da40c"
  },
  "kernelspec": {
   "display_name": "Python 3.8.8 64-bit ('base': conda)",
   "language": "python",
   "name": "python3"
  },
  "language_info": {
   "codemirror_mode": {
    "name": "ipython",
    "version": 3
   },
   "file_extension": ".py",
   "mimetype": "text/x-python",
   "name": "python",
   "nbconvert_exporter": "python",
   "pygments_lexer": "ipython3",
   "version": "3.8.8"
  },
  "orig_nbformat": 4
 },
 "nbformat": 4,
 "nbformat_minor": 2
}
